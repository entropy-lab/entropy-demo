{
 "cells": [
  {
   "cell_type": "code",
   "execution_count": 1,
   "id": "b62220bd-9a59-406a-9177-995819f769f1",
   "metadata": {},
   "outputs": [],
   "source": [
    "from entropylab import *\n",
    "from entropylab.api.plot import CirclePlotGenerator, LinePlotGenerator, ImShowPlotGenerator\n",
    "from entropylab.api.data_writer import PlotSpec\n",
    "\n",
    "from mock_instruments import MockScope\n",
    "import numpy as np\n",
    "\n",
    "from plots_library import LinfitPlotGenerator, MyImShowPlotGenerator\n",
    "\n",
    "db = SqlAlchemyDB(path='.')\n",
    "labResources = ExperimentResources(db)\n"
   ]
  },
  {
   "cell_type": "code",
   "execution_count": 2,
   "id": "908cee8b-b4fe-4b6d-9a29-b21caf09f75d",
   "metadata": {},
   "outputs": [
    {
     "name": "stdout",
     "output_type": "stream",
     "text": [
      "2022-02-24 16:18:34,030 - entropy - INFO - Running node <PyNode> first_node\n",
      "2022-02-24 16:18:34,276 - entropy - INFO - Finished entropy experiment execution successfully\n"
     ]
    }
   ],
   "source": [
    "# %% one node\n",
    "def node_operation():\n",
    "    return {'res': [1, 2, 3, 6]}\n",
    "\n",
    "\n",
    "node1 = PyNode(label=\"first_node\", program=node_operation, output_vars={'res'})\n",
    "\n",
    "experiment = Graph(resources=labResources, graph={node1}, story=\"run_a\",label=\"my first experiment\")\n",
    "\n",
    "handle = experiment.run()"
   ]
  },
  {
   "cell_type": "code",
   "execution_count": 3,
   "id": "9cfa2e4c-db06-46f5-985a-a6a4c62f194c",
   "metadata": {},
   "outputs": [
    {
     "name": "stdout",
     "output_type": "stream",
     "text": [
      "2022-02-24 16:18:54,530 - entropy - INFO - Running node <PyNode> first_node\n",
      "2022-02-24 16:18:54,552 - entropy - INFO - Finished entropy experiment execution successfully\n"
     ]
    }
   ],
   "source": [
    "# %% one node with a number\n",
    "def node_operation():\n",
    "    return {'res': [0]}\n",
    "\n",
    "\n",
    "node1 = PyNode(label=\"first_node\", program=node_operation, output_vars={'res'})\n",
    "\n",
    "experiment = Graph(resources=labResources, graph={node1}, label = \"single int\",story=\"run_a\")\n",
    "\n",
    "handle = experiment.run()\n",
    "\n"
   ]
  },
  {
   "cell_type": "code",
   "execution_count": 4,
   "id": "8236df95-b1d2-4acc-a458-9e7c2ce11530",
   "metadata": {},
   "outputs": [
    {
     "name": "stdout",
     "output_type": "stream",
     "text": [
      "2022-02-24 16:19:13,764 - entropy - INFO - Running node <PyNode> first_node\n",
      "2022-02-24 16:19:13,786 - entropy - INFO - Finished entropy experiment execution successfully\n"
     ]
    }
   ],
   "source": [
    "# %% one node with 2d autoplot\n",
    "def node_operation():\n",
    "    return {'res': np.random.rand(10,10)}\n",
    "\n",
    "\n",
    "node1 = PyNode(label=\"first_node\", program=node_operation, output_vars={'res'})\n",
    "\n",
    "experiment = Graph(resources=labResources, graph={node1}, label = \"auto 2d-plot\", story=\"run_a\")\n",
    "\n",
    "handle = experiment.run()\n"
   ]
  },
  {
   "cell_type": "code",
   "execution_count": 5,
   "id": "214eb91a-9d5f-4a44-a05d-4d9596e25e3e",
   "metadata": {},
   "outputs": [
    {
     "name": "stdout",
     "output_type": "stream",
     "text": [
      "2022-02-24 16:19:54,248 - entropy - INFO - Running node <PyNode> first_node\n",
      "2022-02-24 16:19:54,274 - entropy - INFO - Finished entropy experiment execution successfully\n"
     ]
    }
   ],
   "source": [
    "# %% one node with manual plot\n",
    "def node_operation(context: EntropyContext):\n",
    "    micro = 1e-6\n",
    "    data = [\n",
    "        [\n",
    "            1 * micro,\n",
    "            2 * micro,\n",
    "            3 * micro,\n",
    "            4 * micro,\n",
    "            5 * micro,\n",
    "            6 * micro,\n",
    "            7 * micro,\n",
    "            8 * micro,\n",
    "        ],\n",
    "        [0, 1, 2, 3, 4, 5, 6, 7],\n",
    "    ]\n",
    "    context.add_plot(\n",
    "        PlotSpec(\n",
    "            label=\"plot\",\n",
    "            story=\"created this plot in experiment\",\n",
    "            generator=CirclePlotGenerator,\n",
    "        ),\n",
    "\n",
    "        data=data,\n",
    "    )\n",
    "\n",
    "    context.add_plot(\n",
    "        PlotSpec(\n",
    "            label=\"plot2\",\n",
    "            story=\"created this plot in experiment\",\n",
    "            generator=LinePlotGenerator,\n",
    "        ),\n",
    "\n",
    "        data=data,\n",
    "    )\n",
    "\n",
    "    return {'res': data}\n",
    "\n",
    "\n",
    "node1 = PyNode(label=\"first_node\", program=node_operation, output_vars={'res'})\n",
    "\n",
    "experiment = Graph(resources=labResources, graph={node1}, story=\"run_a\",label=\"manual add plots\")\n",
    "\n",
    "handle = experiment.run()\n"
   ]
  },
  {
   "cell_type": "code",
   "execution_count": 6,
   "id": "7de3bf08-3714-4067-a429-9032fe9caed9",
   "metadata": {},
   "outputs": [
    {
     "name": "stdout",
     "output_type": "stream",
     "text": [
      "2022-02-24 16:20:43,753 - entropy - INFO - Running node <PyNode> first_node\n",
      "2022-02-24 16:20:43,786 - entropy - INFO - Finished entropy experiment execution successfully\n"
     ]
    }
   ],
   "source": [
    "# %% one node with overlay\n",
    "def node_operation(context: EntropyContext):\n",
    "    micro = 1e-6\n",
    "    data = [\n",
    "        np.linspace(0, 10, 100),\n",
    "        np.linspace(0, 10, 100) + np.random.random(100) * 5,\n",
    "\n",
    "    ]\n",
    "\n",
    "    context.add_plot(\n",
    "        PlotSpec(\n",
    "            label=\"plot\",\n",
    "            story=\"created this plot in experiment\",\n",
    "            generator=LinfitPlotGenerator,\n",
    "\n",
    "        ),\n",
    "\n",
    "        data=(data, {'xlabel': 'my_x2', 'ylabel': 'my_y'})\n",
    "    )\n",
    "\n",
    "    context.add_plot(\n",
    "        PlotSpec(\n",
    "            label=\"plot2\",\n",
    "            story=\"created this plot in experiment\",\n",
    "            generator=LinePlotGenerator,\n",
    "        ),\n",
    "\n",
    "        data=data,\n",
    "    )\n",
    "\n",
    "    return {'res': data}\n",
    "\n",
    "\n",
    "node1 = PyNode(label=\"first_node\", program=node_operation, output_vars={'res'})\n",
    "\n",
    "experiment = Graph(resources=labResources, graph={node1}, story=\"run_a\", label=\"linear fit\")\n",
    "\n",
    "handle = experiment.run()\n",
    "\n"
   ]
  },
  {
   "cell_type": "code",
   "execution_count": 7,
   "id": "811786c3-9cb1-4728-8bfb-73008bc09102",
   "metadata": {},
   "outputs": [
    {
     "name": "stdout",
     "output_type": "stream",
     "text": [
      "2022-02-24 16:21:35,082 - entropy - INFO - Running node <PyNode> first node\n",
      "2022-02-24 16:21:35,094 - entropy - INFO - Running node <PyNode> second node\n",
      "2022-02-24 16:21:35,114 - entropy - INFO - Finished entropy experiment execution successfully\n"
     ]
    },
    {
     "data": {
      "image/svg+xml": [
       "<?xml version=\"1.0\" encoding=\"UTF-8\" standalone=\"no\"?>\r\n",
       "<!DOCTYPE svg PUBLIC \"-//W3C//DTD SVG 1.1//EN\"\r\n",
       " \"http://www.w3.org/Graphics/SVG/1.1/DTD/svg11.dtd\">\r\n",
       "<!-- Generated by graphviz version 2.46.0 (20210118.1747)\r\n",
       " -->\r\n",
       "<!-- Pages: 1 -->\r\n",
       "<svg width=\"220pt\" height=\"44pt\"\r\n",
       " viewBox=\"0.00 0.00 220.00 44.00\" xmlns=\"http://www.w3.org/2000/svg\" xmlns:xlink=\"http://www.w3.org/1999/xlink\">\r\n",
       "<g id=\"graph0\" class=\"graph\" transform=\"scale(1 1) rotate(0) translate(4 40)\">\r\n",
       "<polygon fill=\"white\" stroke=\"transparent\" points=\"-4,4 -4,-40 216,-40 216,4 -4,4\"/>\r\n",
       "<!-- second node -->\r\n",
       "<g id=\"node1\" class=\"node\">\r\n",
       "<title>second node</title>\r\n",
       "<polygon fill=\"none\" stroke=\"black\" points=\"212,-36 123,-36 123,0 212,0 212,-36\"/>\r\n",
       "<text text-anchor=\"middle\" x=\"167.5\" y=\"-14.3\" font-family=\"Times New Roman,serif\" font-size=\"14.00\">second node</text>\r\n",
       "</g>\r\n",
       "<!-- first node -->\r\n",
       "<g id=\"node2\" class=\"node\">\r\n",
       "<title>first node</title>\r\n",
       "<polygon fill=\"none\" stroke=\"black\" points=\"70,-36 0,-36 0,0 70,0 70,-36\"/>\r\n",
       "<text text-anchor=\"middle\" x=\"35\" y=\"-14.3\" font-family=\"Times New Roman,serif\" font-size=\"14.00\">first node</text>\r\n",
       "</g>\r\n",
       "<!-- first node&#45;&gt;second node -->\r\n",
       "<g id=\"edge1\" class=\"edge\">\r\n",
       "<title>first node&#45;&gt;second node</title>\r\n",
       "<path fill=\"none\" stroke=\"black\" d=\"M70.29,-18C83.17,-18 98.15,-18 112.4,-18\"/>\r\n",
       "<polygon fill=\"black\" stroke=\"black\" points=\"112.6,-21.5 122.6,-18 112.6,-14.5 112.6,-21.5\"/>\r\n",
       "<text text-anchor=\"middle\" x=\"96.5\" y=\"-21.8\" font-family=\"Times New Roman,serif\" font-size=\"14.00\">res</text>\r\n",
       "</g>\r\n",
       "</g>\r\n",
       "</svg>\r\n"
      ],
      "text/plain": [
       "<graphviz.dot.Digraph at 0x1eb4a8a3048>"
      ]
     },
     "execution_count": 7,
     "metadata": {},
     "output_type": "execute_result"
    }
   ],
   "source": [
    "\n",
    "# %% two connected nodes\n",
    "\n",
    "def node_with_input(x):\n",
    "    return {'res': x + 1}\n",
    "\n",
    "\n",
    "node1 = PyNode(label=\"first node\", program=lambda: {'res': np.cos(np.linspace(0, 3))}, output_vars={'res'})\n",
    "node2 = PyNode(label=\"second node\", program=node_with_input, input_vars={'x': node1.outputs[\"res\"]},\n",
    "               output_vars={'res'})\n",
    "\n",
    "experiment = Graph(resources=labResources, graph={node1, node2}, story=\"run_a\",label=\"multi node\")\n",
    "handle = experiment.run()\n",
    "\n",
    "experiment.dot_graph()"
   ]
  },
  {
   "cell_type": "code",
   "execution_count": 8,
   "id": "4529ef4b-860e-4b3b-97b3-3bfabe416291",
   "metadata": {},
   "outputs": [
    {
     "name": "stdout",
     "output_type": "stream",
     "text": [
      "2022-02-24 16:24:19,697 - entropy - INFO - Running node <PyNode> first_node\n",
      "Connected!\n",
      "got trig 1\n",
      "2022-02-24 16:24:19,864 - entropy - INFO - Finished entropy experiment execution successfully\n"
     ]
    }
   ],
   "source": [
    "# %% nodes with instruments\n",
    "\n",
    "labResources.add_temp_resource(\n",
    "    \"scope_1\", MockScope(\"1.1.1.1\", \"\")\n",
    ")\n",
    "\n",
    "\n",
    "# %%\n",
    "def work_with_scope(context: EntropyContext):\n",
    "    scope = context.get_resource('scope_1')\n",
    "    scope.connect()\n",
    "    scope.get_trig()\n",
    "    return {'res': [0, 1, 2, 3, 4]}\n",
    "\n",
    "\n",
    "node1 = PyNode(label=\"first_node\", program=work_with_scope, output_vars={'res'})\n",
    "experiment = Graph(resources=labResources, graph={node1}, story=\"a scope\", label='experiment with instruments')\n",
    "handle = experiment.run()\n"
   ]
  },
  {
   "cell_type": "code",
   "execution_count": null,
   "id": "05375050-9e23-4ec7-9b76-3096a75be233",
   "metadata": {},
   "outputs": [],
   "source": []
  }
 ],
 "metadata": {
  "kernelspec": {
   "display_name": "Python 3 (ipykernel)",
   "language": "python",
   "name": "python3"
  },
  "language_info": {
   "codemirror_mode": {
    "name": "ipython",
    "version": 3
   },
   "file_extension": ".py",
   "mimetype": "text/x-python",
   "name": "python",
   "nbconvert_exporter": "python",
   "pygments_lexer": "ipython3",
   "version": "3.7.9"
  }
 },
 "nbformat": 4,
 "nbformat_minor": 5
}
